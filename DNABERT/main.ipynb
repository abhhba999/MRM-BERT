{
 "cells": [
  {
   "cell_type": "code",
   "execution_count": 1,
   "metadata": {},
   "outputs": [
    {
     "name": "stdout",
     "output_type": "stream",
     "text": [
      "  name                                                seq  label\n",
      "0  P-0  AGTTCTACATAATTACACCAAGGAGACATACAAAAACACACAGCGC...      1\n",
      "1  P-1  AGCTCTTAATTACTAGGCCACACTGACTGTTAAGCAGTTAGCAGTG...      1\n",
      "2  P-2  CTCCGGTGATTTTTAAACCTGAAAAACTGAAATGCTTTGGAAATAT...      1\n",
      "3  P-3  CTGGAATGGAAAGTTTTTAAGGCAAACCTTTATCGGAAAATGCATA...      1\n",
      "4  P-4  TACTCAAAGTTTAGTTGAAATTTTAACTAGTTTTTGGTTTGTTTAA...      1\n"
     ]
    }
   ],
   "source": [
    "import pandas as pd\n",
    "import numpy as np\n",
    "import math\n",
    "import os\n",
    "from tempfile import TemporaryDirectory\n",
    "from typing import Tuple\n",
    "import pickle\n",
    "BATCH_SIZE=16\n",
    "# root_path=r\"H:\\work\\rm\\dataset\\lesspU\\Dataset\\Tissue Specific\\Human_Liver\"\n",
    "root_path=\"/home/wls/test/DNABERT/multirm/hm6A\"\n",
    "import pandas as pd\n",
    "\n",
    "# 读取正样本\n",
    "with open(root_path+\"/positive.txt\", \"r\") as f:\n",
    "    positive_list = f.read().splitlines() # 按行读取，并去除每行末尾的换行符\n",
    "\n",
    "# 读取负样本\n",
    "with open(root_path+\"/negative.txt\", \"r\") as f:\n",
    "    negative_list = f.read().splitlines()\n",
    "\n",
    "# 合并成一个列表\n",
    "samples = [(\"P-\" + str(i), s) for i, s in enumerate(positive_list)] + [(\"N-\" + str(i), s) for i, s in enumerate(negative_list)]\n",
    "\n",
    "# 转换成DataFrame\n",
    "df = pd.DataFrame(samples, columns=[\"name\", \"seq\"])\n",
    "df[\"label\"] = df[\"name\"].apply(lambda x: 1 if x.startswith(\"P\") else 0) # 添加标签列\n",
    "df = df[[\"name\", \"seq\", \"label\"]] # 调整列的顺序\n",
    "\n",
    "# 查看DataFrame\n",
    "print(df.head())"
   ]
  },
  {
   "cell_type": "code",
   "execution_count": 2,
   "metadata": {},
   "outputs": [],
   "source": [
    "def seq2kmer(seq):\n",
    "    k=3\n",
    "    kmer = [seq[x:x+k] for x in range(len(seq)+1-k)]\n",
    "    kmers = \" \".join(kmer)\n",
    "    return kmers\n"
   ]
  },
  {
   "cell_type": "code",
   "execution_count": 3,
   "metadata": {},
   "outputs": [],
   "source": [
    "df[\"sequence\"]=df[\"seq\"].apply(seq2kmer)\n"
   ]
  },
  {
   "cell_type": "code",
   "execution_count": 5,
   "metadata": {},
   "outputs": [],
   "source": [
    "import random\n",
    "data=df[[\"sequence\",\"label\"]]\n",
    "data=data.sample(frac=1)\n",
    "data.reset_index(drop=True,inplace=True)\n",
    "training_ratio = 0.7;testing_ratio = 1-training_ratio\n",
    "random_bools = [random.random() < training_ratio for _ in range(len(data))]\n",
    "distribution = [\"training\" if b else \"testing\" for b in random_bools]\n",
    "data[\"train\"]=distribution\n",
    "data.loc[data.train==\"training\"][[\"sequence\",\"label\"]].to_csv(\"/home/wls/test/DNABERT/examples/sample_data/hm6a/train.tsv\",sep=\"\\t\",index=None)\n"
   ]
  },
  {
   "cell_type": "code",
   "execution_count": 6,
   "metadata": {},
   "outputs": [],
   "source": [
    "data.loc[data.train==\"testing\"][[\"sequence\",\"label\"]].to_csv(\"/home/wls/test/DNABERT/examples/sample_data/hm6a/dev.tsv\",sep=\"\\t\",index=None)\n"
   ]
  },
  {
   "cell_type": "code",
   "execution_count": null,
   "metadata": {},
   "outputs": [],
   "source": [
    "cd examples\n",
    "\n",
    "export KMER=3\n",
    "export MODEL_PATH=/home/wls/test/DNABERT/3-new-12w-0\n",
    "export DATA_PATH=/home/wls/test/DNABERT/examples/sample_data/hm6a\n",
    "export OUTPUT_PATH=./ft/hm6a\n",
    "\n",
    "python run_finetune.py \\\n",
    "    --model_type dna \\\n",
    "    --tokenizer_name=dna3 \\\n",
    "    --model_name_or_path $MODEL_PATH \\\n",
    "    --task_name dnaprom \\\n",
    "    --do_train \\\n",
    "    --do_eval \\\n",
    "    --data_dir $DATA_PATH \\\n",
    "    --max_seq_length 100 \\\n",
    "    --per_gpu_eval_batch_size=32   \\\n",
    "    --per_gpu_train_batch_size=32   \\\n",
    "    --learning_rate 2e-4 \\\n",
    "    --num_train_epochs 5.0 \\\n",
    "    --output_dir $OUTPUT_PATH \\\n",
    "    --evaluate_during_training \\\n",
    "    --logging_steps 100 \\\n",
    "    --save_steps 4000 \\\n",
    "    --warmup_percent 0.1 \\\n",
    "    --hidden_dropout_prob 0.1 \\\n",
    "    --overwrite_output \\\n",
    "    --weight_decay 0.01 \\\n",
    "    --n_process 8"
   ]
  }
 ],
 "metadata": {
  "kernelspec": {
   "display_name": "wls",
   "language": "python",
   "name": "python3"
  },
  "language_info": {
   "codemirror_mode": {
    "name": "ipython",
    "version": 3
   },
   "file_extension": ".py",
   "mimetype": "text/x-python",
   "name": "python",
   "nbconvert_exporter": "python",
   "pygments_lexer": "ipython3",
   "version": "3.7.12"
  },
  "orig_nbformat": 4
 },
 "nbformat": 4,
 "nbformat_minor": 2
}
